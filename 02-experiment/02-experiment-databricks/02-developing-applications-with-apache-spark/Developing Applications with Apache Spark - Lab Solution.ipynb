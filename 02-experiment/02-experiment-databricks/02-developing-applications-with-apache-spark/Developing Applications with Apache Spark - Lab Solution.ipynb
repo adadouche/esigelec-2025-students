{
 "cells": [
  {
   "cell_type": "markdown",
   "metadata": {
    "application/vnd.databricks.v1+cell": {
     "cellMetadata": {},
     "inputWidgets": {},
     "nuid": "8c0e09ff-35ff-4b7f-94cf-76173ab13d4f",
     "showTitle": false,
     "tableResultSettingsMap": {},
     "title": ""
    }
   },
   "source": [
    "# Lab Solution - Grouping and Aggregating E-Commerce Data\n",
    "\n",
    "In this lab, you'll practice working with grouping and aggregation in Spark using a dataset of e-commerce transactions. You'll perform various analyses to uncover patterns and insights in customer purchasing behavior.\n",
    "\n",
    "### Objectives\n",
    "- Use `groupBy` operations to summarize data\n",
    "- Implement multiple aggregations\n",
    "- Apply different ordering techniques\n",
    "- (Bonus) Use window functions for advanced analytics"
   ]
  },
  {
   "cell_type": "markdown",
   "metadata": {
    "application/vnd.databricks.v1+cell": {
     "cellMetadata": {},
     "inputWidgets": {},
     "nuid": "fa9e6982-5ccb-47b8-984f-14fbe319dd8d",
     "showTitle": false,
     "tableResultSettingsMap": {},
     "title": ""
    }
   },
   "source": [
    "## Initial Setup\n",
    "\n",
    "Load the retail transactions data and examine its structure."
   ]
  },
  {
   "cell_type": "code",
   "execution_count": 0,
   "metadata": {
    "application/vnd.databricks.v1+cell": {
     "cellMetadata": {},
     "inputWidgets": {},
     "nuid": "d82f6002-c987-4e03-b685-4b467b56c746",
     "showTitle": false,
     "tableResultSettingsMap": {},
     "title": ""
    }
   },
   "outputs": [],
   "source": [
    "from pyspark.sql.functions import *\n",
    "\n",
    "## Read the e-commerce transactions data\n",
    "transactions_df = spark.read.table(\"samples.bakehouse.sales_transactions\")\n",
    "\n",
    "## display a sample of the data\n",
    "transactions_df.printSchema()\n",
    "\n",
    "display(transactions_df.limit(10))"
   ]
  },
  {
   "cell_type": "markdown",
   "metadata": {
    "application/vnd.databricks.v1+cell": {
     "cellMetadata": {},
     "inputWidgets": {},
     "nuid": "9b69f596-6c73-42f0-a8be-84e83bc64065",
     "showTitle": false,
     "tableResultSettingsMap": {},
     "title": ""
    }
   },
   "source": [
    "## Basic Grouping Operations\n",
    "\n",
    "Let's start with simple grouping operations to understand product sales patterns."
   ]
  },
  {
   "cell_type": "code",
   "execution_count": 0,
   "metadata": {
    "application/vnd.databricks.v1+cell": {
     "cellMetadata": {},
     "inputWidgets": {},
     "nuid": "81bb2dc2-5924-4ba5-a69a-6313e036ab0b",
     "showTitle": false,
     "tableResultSettingsMap": {},
     "title": ""
    }
   },
   "outputs": [],
   "source": [
    "# 1. Group the data by products and count the number of sales\n",
    "# 2. Order the results by the most popular products"
   ]
  },
  {
   "cell_type": "code",
   "execution_count": 0,
   "metadata": {
    "application/vnd.databricks.v1+cell": {
     "cellMetadata": {},
     "inputWidgets": {},
     "nuid": "9f40d788-eebe-415a-9de3-db3b2a4c08f6",
     "showTitle": false,
     "tableResultSettingsMap": {},
     "title": ""
    }
   },
   "outputs": [],
   "source": [
    "## Count transactions by product\n",
    "product_counts = transactions_df \\\n",
    "    .groupBy(\"product\") \\\n",
    "    .count() \\\n",
    "    .orderBy(desc(\"count\"))\n",
    "\n",
    "display(product_counts)"
   ]
  },
  {
   "cell_type": "markdown",
   "metadata": {
    "application/vnd.databricks.v1+cell": {
     "cellMetadata": {},
     "inputWidgets": {},
     "nuid": "8ba2bf36-4310-4cbe-9449-c651bc123041",
     "showTitle": false,
     "tableResultSettingsMap": {},
     "title": ""
    }
   },
   "source": [
    "## Multiple Aggregations\n",
    "\n",
    "Now let's perform multiple aggregations to get deeper insights."
   ]
  },
  {
   "cell_type": "code",
   "execution_count": 0,
   "metadata": {
    "application/vnd.databricks.v1+cell": {
     "cellMetadata": {},
     "inputWidgets": {},
     "nuid": "ab4fcea4-737a-4331-909b-aea934a87352",
     "showTitle": false,
     "tableResultSettingsMap": {},
     "title": ""
    }
   },
   "outputs": [],
   "source": [
    "# 1. Analyze sales by payment method\n",
    "# 2. Calculate the total revenue, average transaction value, and count of transactions for each payment method\n",
    "# 3. Order by total revenue (highest first)"
   ]
  },
  {
   "cell_type": "code",
   "execution_count": 0,
   "metadata": {
    "application/vnd.databricks.v1+cell": {
     "cellMetadata": {},
     "inputWidgets": {},
     "nuid": "edad0e76-2764-4c73-8932-533a66013dc9",
     "showTitle": false,
     "tableResultSettingsMap": {},
     "title": ""
    }
   },
   "outputs": [],
   "source": [
    "## Analyze sales by payment method\n",
    "payment_analysis = transactions_df \\\n",
    "    .groupBy(\"paymentMethod\") \\\n",
    "    .agg(\n",
    "        round(sum(col(\"totalPrice\")), 2).alias(\"total_revenue\"),\n",
    "        round(avg(col(\"totalPrice\")), 2).alias(\"avg_transaction_value\"),\n",
    "        count(\"*\").alias(\"transaction_count\")\n",
    "    ) \\\n",
    "    .orderBy(desc(\"total_revenue\"))\n",
    "\n",
    "display(payment_analysis)"
   ]
  },
  {
   "cell_type": "markdown",
   "metadata": {
    "application/vnd.databricks.v1+cell": {
     "cellMetadata": {},
     "inputWidgets": {},
     "nuid": "1df5fa0d-cd94-4e37-b45e-08d2e80d20e1",
     "showTitle": false,
     "tableResultSettingsMap": {},
     "title": ""
    }
   },
   "source": [
    "## Bonus Challenge: Window Functions\n",
    "\n",
    "If you have time, try using window functions for advanced analytics."
   ]
  },
  {
   "cell_type": "code",
   "execution_count": 0,
   "metadata": {
    "application/vnd.databricks.v1+cell": {
     "cellMetadata": {},
     "inputWidgets": {},
     "nuid": "358dfd64-a052-4516-83bd-e0099871f2d1",
     "showTitle": false,
     "tableResultSettingsMap": {},
     "title": ""
    }
   },
   "outputs": [],
   "source": [
    "\n",
    "## First, calculate total revenue by product and \n",
    "product_revenue_df = transactions_df \\\n",
    "    .groupBy(\"product\") \\\n",
    "    .agg(\n",
    "        round(sum(col(\"totalPrice\")), 2).alias(\"total_revenue\")\n",
    "    )\n",
    "\n",
    "## Using window functions to add rankings\n",
    "## Ranking products by total revenue\n",
    "\n",
    "from pyspark.sql.window import Window\n",
    "\n",
    "## Create window spec for ranking categories\n",
    "window_by_revenue = Window.orderBy(desc(\"total_revenue\"))\n",
    "\n",
    "## Add rankings\n",
    "ranked_products_df = product_revenue_df \\\n",
    "    .withColumn(\"revenue_rank\", rank().over(window_by_revenue))\n",
    "\n",
    "## Display the rankings\n",
    "display(ranked_products_df)"
   ]
  },
  {
   "cell_type": "code",
   "execution_count": 0,
   "metadata": {
    "application/vnd.databricks.v1+cell": {
     "cellMetadata": {},
     "inputWidgets": {},
     "nuid": "1bab9b70-8dd9-41a1-a328-69247034ef64",
     "showTitle": false,
     "tableResultSettingsMap": {},
     "title": ""
    }
   },
   "outputs": [],
   "source": []
  },
  {
   "cell_type": "markdown",
   "metadata": {
    "application/vnd.databricks.v1+cell": {
     "cellMetadata": {},
     "inputWidgets": {},
     "nuid": "0528b303-650e-438d-8bdd-e242129ea52f",
     "showTitle": false,
     "tableResultSettingsMap": {},
     "title": ""
    }
   },
   "source": [
    "# Lab Solution - Working with Complex Data Types in E-Commerce Data\n",
    "\n",
    "In this lab, you'll practice working with complex data types in Spark, including handling JSON strings, converting them to structured types, and manipulating nested data structures.\n",
    "\n",
    "## Scenario\n",
    "\n",
    "You are a data engineer at an e-commerce company that collects data about customer orders, product reviews, and customer browsing behavior. The data contains nested structures that need to be properly processed for analysis.\n",
    "\n",
    "### Objectives\n",
    "- Convert JSON string data to Spark SQL native complex types\n",
    "- Work with arrays and structs\n",
    "- Use functions like explode, collect_list, and pivot\n",
    "- Extract and analyze valuable insights from nested data"
   ]
  },
  {
   "cell_type": "markdown",
   "metadata": {
    "application/vnd.databricks.v1+cell": {
     "cellMetadata": {},
     "inputWidgets": {},
     "nuid": "65588e2a-5a77-442d-8f51-e561e4ecd10f",
     "showTitle": false,
     "tableResultSettingsMap": {},
     "title": ""
    }
   },
   "source": [
    "## Dataset Setup\n",
    "\n",
    "Run the following cell to configure your working environment for this course. "
   ]
  },
  {
   "cell_type": "code",
   "execution_count": 0,
   "metadata": {
    "application/vnd.databricks.v1+cell": {
     "cellMetadata": {},
     "inputWidgets": {},
     "nuid": "75e70315-0da6-4f90-9fdb-07eb7c488393",
     "showTitle": false,
     "tableResultSettingsMap": {},
     "title": ""
    }
   },
   "outputs": [],
   "source": [
    "from pyspark.sql.types import *\n",
    "from pyspark.sql.functions import *\n",
    "import json\n",
    "\n",
    "# Define our sample e-commerce data with JSON strings\n",
    "data = [\n",
    "    (1001, \"Jordan Smith\", \"jordan.smith@email.com\", \"2022-03-15\",\n",
    "     \"\"\"[\"loyal\", \"premium\", \"tech-enthusiast\"]\"\"\",\n",
    "     \"\"\"[\n",
    "         {\"order_id\": \"O8823\", \"date\": \"2023-01-05\", \"total\": 799.99, \"items\": [\n",
    "           {\"product_id\": \"PHONE-256\", \"name\": \"Smartphone XS\", \"price\": 699.99, \"quantity\": 1},\n",
    "           {\"product_id\": \"CASE-101\", \"name\": \"Phone Case\", \"price\": 29.99, \"quantity\": 1},\n",
    "           {\"product_id\": \"CHGR-201\", \"name\": \"Fast Charger\", \"price\": 49.99, \"quantity\": 1}\n",
    "         ]},\n",
    "         {\"order_id\": \"O9012\", \"date\": \"2023-02-18\", \"total\": 129.95, \"items\": [\n",
    "           {\"product_id\": \"HDPHN-110\", \"name\": \"Wireless Headphones\", \"price\": 129.95, \"quantity\": 1}\n",
    "         ]}\n",
    "       ]\"\"\",\n",
    "     \"\"\"[\"smartphones\", \"accessories\", \"audio\", \"wearables\"]\"\"\"\n",
    "    ),\n",
    "    \n",
    "    (1002, \"Alex Johnson\", \"alex.j@email.com\", \"2021-11-20\",\n",
    "     \"\"\"[\"new\", \"standard\", \"home-office\"]\"\"\",\n",
    "     \"\"\"[\n",
    "         {\"order_id\": \"O8901\", \"date\": \"2023-01-10\", \"total\": 1299.99, \"items\": [\n",
    "           {\"product_id\": \"LAPTOP-15\", \"name\": \"Ultrabook Pro\", \"price\": 1199.99, \"quantity\": 1},\n",
    "           {\"product_id\": \"MOUSE-202\", \"name\": \"Ergonomic Mouse\", \"price\": 49.99, \"quantity\": 1},\n",
    "           {\"product_id\": \"KYBRD-303\", \"name\": \"Mechanical Keyboard\", \"price\": 89.99, \"quantity\": 1}\n",
    "         ]}\n",
    "       ]\"\"\",\n",
    "     \"\"\"[\"laptops\", \"office-equipment\", \"monitors\", \"storage\"]\"\"\"\n",
    "    ),\n",
    "    \n",
    "    (1003, \"Taylor Williams\", \"t.williams@email.com\", \"2022-08-05\",\n",
    "     \"\"\"[\"standard\", \"gamer\"]\"\"\",\n",
    "     \"\"\"[\n",
    "         {\"order_id\": \"O9188\", \"date\": \"2023-02-01\", \"total\": 2099.97, \"items\": [\n",
    "           {\"product_id\": \"GPU-3080\", \"name\": \"Graphics Card RTX\", \"price\": 899.99, \"quantity\": 1},\n",
    "           {\"product_id\": \"CPU-i9\", \"name\": \"Processor i9\", \"price\": 499.99, \"quantity\": 1},\n",
    "           {\"product_id\": \"RAM-32GB\", \"name\": \"Gaming RAM 32GB\", \"price\": 189.99, \"quantity\": 2},\n",
    "           {\"product_id\": \"MBOARD-Z\", \"name\": \"Gaming Motherboard\", \"price\": 319.99, \"quantity\": 1}\n",
    "         ]}\n",
    "       ]\"\"\",\n",
    "     \"\"\"[\"gaming\", \"pc-components\", \"monitors\", \"accessories\"]\"\"\"\n",
    "    ),\n",
    "    \n",
    "    (1004, \"Morgan Lee\", \"morgan.lee@email.com\", \"2022-06-10\",\n",
    "     \"\"\"[\"standard\", \"photography\"]\"\"\",\n",
    "     \"\"\"[\n",
    "         {\"order_id\": \"O9021\", \"date\": \"2023-01-15\", \"total\": 3299.98, \"items\": [\n",
    "           {\"product_id\": \"CAM-DSLR\", \"name\": \"Professional Camera\", \"price\": 2499.99, \"quantity\": 1},\n",
    "           {\"product_id\": \"LENS-50mm\", \"name\": \"Prime Lens\", \"price\": 349.99, \"quantity\": 1},\n",
    "           {\"product_id\": \"TRIPOD-P\", \"name\": \"Premium Tripod\", \"price\": 149.99, \"quantity\": 1},\n",
    "           {\"product_id\": \"SDCARD-128\", \"name\": \"Memory Card 128GB\", \"price\": 79.99, \"quantity\": 3}\n",
    "         ]},\n",
    "         {\"order_id\": \"O9254\", \"date\": \"2023-02-28\", \"total\": 299.98, \"items\": [\n",
    "           {\"product_id\": \"BAG-CAM\", \"name\": \"Camera Bag\", \"price\": 189.99, \"quantity\": 1},\n",
    "           {\"product_id\": \"CLEAN-KIT\", \"name\": \"Lens Cleaning Kit\", \"price\": 29.99, \"quantity\": 1}\n",
    "         ]}\n",
    "       ]\"\"\",\n",
    "     \"\"\"[\"cameras\", \"photography\", \"lenses\", \"accessories\"]\"\"\"\n",
    "    ),\n",
    "    \n",
    "    (1005, \"Casey Rivera\", \"casey.r@email.com\", \"2021-09-30\",\n",
    "     \"\"\"[\"premium\", \"smart-home\"]\"\"\",\n",
    "     \"\"\"[\n",
    "         {\"order_id\": \"O8765\", \"date\": \"2023-01-02\", \"total\": 1029.95, \"items\": [\n",
    "           {\"product_id\": \"SMHUB-01\", \"name\": \"Smart Home Hub\", \"price\": 249.99, \"quantity\": 1},\n",
    "           {\"product_id\": \"SMSPK-02\", \"name\": \"Smart Speaker\", \"price\": 179.99, \"quantity\": 2},\n",
    "           {\"product_id\": \"SMBLB-03\", \"name\": \"Smart Bulbs Pack\", \"price\": 119.99, \"quantity\": 3},\n",
    "           {\"product_id\": \"SMSENS-04\", \"name\": \"Motion Sensors\", \"price\": 89.99, \"quantity\": 1}\n",
    "         ]},\n",
    "         {\"order_id\": \"O9181\", \"date\": \"2023-02-15\", \"total\": 349.98, \"items\": [\n",
    "           {\"product_id\": \"SMDLOCK-05\", \"name\": \"Smart Door Lock\", \"price\": 249.99, \"quantity\": 1},\n",
    "           {\"product_id\": \"SMCAM-06\", \"name\": \"Indoor Camera\", \"price\": 99.99, \"quantity\": 1}\n",
    "         ]}\n",
    "       ]\"\"\",\n",
    "     \"\"\"[\"smart-home\", \"security\", \"automation\", \"speakers\"]\"\"\"\n",
    "    )\n",
    "]\n",
    "\n",
    "# Define the schema for the raw data\n",
    "schema = StructType([\n",
    "    StructField(\"customer_id\", StringType(), True),\n",
    "    StructField(\"name\", StringType(), True),\n",
    "    StructField(\"email\", StringType(), True),\n",
    "    StructField(\"registration_date\", StringType(), True),\n",
    "    StructField(\"tags\", StringType(), True),\n",
    "    StructField(\"recent_orders\", StringType(), True),\n",
    "    StructField(\"browsing_history\", StringType(), True)\n",
    "])\n",
    "\n",
    "# Create DataFrame\n",
    "ecommerce_df = spark.createDataFrame(data, schema)\n",
    "\n",
    "# Create temporary view\n",
    "ecommerce_df.createOrReplaceTempView(\"ecommerce_raw\")"
   ]
  },
  {
   "cell_type": "markdown",
   "metadata": {
    "application/vnd.databricks.v1+cell": {
     "cellMetadata": {},
     "inputWidgets": {},
     "nuid": "d7de2b9c-ab83-482f-aef0-7b52df53363a",
     "showTitle": false,
     "tableResultSettingsMap": {},
     "title": ""
    }
   },
   "source": [
    "#### Querying the newly created table"
   ]
  },
  {
   "cell_type": "code",
   "execution_count": 0,
   "metadata": {
    "application/vnd.databricks.v1+cell": {
     "cellMetadata": {},
     "inputWidgets": {},
     "nuid": "2acaa16e-a662-455f-baba-1176dbbd9405",
     "showTitle": false,
     "tableResultSettingsMap": {},
     "title": ""
    }
   },
   "outputs": [],
   "source": [
    "%sql\n",
    "select * from ecommerce_raw"
   ]
  },
  {
   "cell_type": "markdown",
   "metadata": {
    "application/vnd.databricks.v1+cell": {
     "cellMetadata": {},
     "inputWidgets": {},
     "nuid": "96368fd8-99ff-48a4-80a4-cfed5d5ccd1e",
     "showTitle": false,
     "tableResultSettingsMap": {},
     "title": ""
    }
   },
   "source": [
    "## Load and Inspect Raw Data with JSON Strings\n",
    "\n",
    "Load and examine the retail dataset which includes JSON strings."
   ]
  },
  {
   "cell_type": "code",
   "execution_count": 0,
   "metadata": {
    "application/vnd.databricks.v1+cell": {
     "cellMetadata": {},
     "inputWidgets": {},
     "nuid": "6f90f563-6124-4d2e-8414-e16a383c9fcf",
     "showTitle": false,
     "tableResultSettingsMap": {},
     "title": ""
    }
   },
   "outputs": [],
   "source": [
    "## Read the sample dataset\n",
    "events_df = spark.read.table(\"ecommerce_raw\")\n",
    "\n",
    "## Examine the schema and display sample data\n",
    "events_df.printSchema()\n",
    "display(events_df)"
   ]
  },
  {
   "cell_type": "markdown",
   "metadata": {
    "application/vnd.databricks.v1+cell": {
     "cellMetadata": {},
     "inputWidgets": {},
     "nuid": "5e3bb121-39fa-4829-983c-886f4aa7cbdd",
     "showTitle": false,
     "tableResultSettingsMap": {},
     "title": ""
    }
   },
   "source": [
    "## Convert JSON Strings to Structured Types\n",
    "\n",
    "The `tags`, `recent_orders`, and `browsing_history` columns contain JSON strings. Let's convert them to proper Spark structured types."
   ]
  },
  {
   "cell_type": "code",
   "execution_count": 0,
   "metadata": {
    "application/vnd.databricks.v1+cell": {
     "cellMetadata": {},
     "inputWidgets": {},
     "nuid": "257dd16d-404f-405d-91de-1d1e3e660894",
     "showTitle": false,
     "tableResultSettingsMap": {},
     "title": ""
    }
   },
   "outputs": [],
   "source": [
    "# 1. Get a sample of the JSON strings in each column\n",
    "# 2. Infer schemas from the JSON samples\n",
    "# 3. Convert the JSON strings to structured types using from_json and display the resulting DataFrame"
   ]
  },
  {
   "cell_type": "code",
   "execution_count": 0,
   "metadata": {
    "application/vnd.databricks.v1+cell": {
     "cellMetadata": {},
     "inputWidgets": {},
     "nuid": "88c386c9-a66a-4151-92d9-ca3c815c0100",
     "showTitle": false,
     "tableResultSettingsMap": {},
     "title": ""
    }
   },
   "outputs": [],
   "source": [
    "## Get sample JSON strings\n",
    "tags_json = ecommerce_df.select(\"tags\").limit(1).collect()[0][0]\n",
    "recent_orders_json = ecommerce_df.select(\"recent_orders\").limit(1).collect()[0][0]\n",
    "browsing_history_json = ecommerce_df.select(\"browsing_history\").limit(1).collect()[0][0]\n",
    "\n",
    "print(\"Tags sample:\", tags_json)\n",
    "print(\"\\nRecent orders sample:\", recent_orders_json)\n",
    "print(\"\\nBrowsing history sample:\", browsing_history_json)"
   ]
  },
  {
   "cell_type": "code",
   "execution_count": 0,
   "metadata": {
    "application/vnd.databricks.v1+cell": {
     "cellMetadata": {},
     "inputWidgets": {},
     "nuid": "97aa2d1c-e154-4e9f-bc7a-b89f2a70885f",
     "showTitle": false,
     "tableResultSettingsMap": {},
     "title": ""
    }
   },
   "outputs": [],
   "source": [
    "## Infer schemas from the JSON samples\n",
    "\n",
    "## Define/infer schemas\n",
    "tags_schema = schema_of_json(lit(tags_json))\n",
    "recent_orders_schema = schema_of_json(lit(recent_orders_json))\n",
    "browsing_history_schema = schema_of_json(lit(browsing_history_json))"
   ]
  },
  {
   "cell_type": "code",
   "execution_count": 0,
   "metadata": {
    "application/vnd.databricks.v1+cell": {
     "cellMetadata": {},
     "inputWidgets": {},
     "nuid": "988f09bc-df97-40f1-bcd1-fd1e9f3e0c7e",
     "showTitle": false,
     "tableResultSettingsMap": {},
     "title": ""
    }
   },
   "outputs": [],
   "source": [
    "parsed_df = ecommerce_df.select(\n",
    "    \"customer_id\",\n",
    "    \"name\",\n",
    "    \"email\",\n",
    "    \"registration_date\",\n",
    "    from_json(\"tags\", tags_schema).alias(\"tags\"),\n",
    "    from_json(\"recent_orders\", recent_orders_schema).alias(\"recent_orders\"),\n",
    "    from_json(\"browsing_history\", browsing_history_schema).alias(\"browsing_history\")\n",
    ")\n",
    "\n",
    "## Examine the schema and display sample data\n",
    "parsed_df.printSchema()\n",
    "display(parsed_df)"
   ]
  },
  {
   "cell_type": "markdown",
   "metadata": {
    "application/vnd.databricks.v1+cell": {
     "cellMetadata": {},
     "inputWidgets": {},
     "nuid": "18a16be3-dfa0-452b-bc17-1c16b165f284",
     "showTitle": false,
     "tableResultSettingsMap": {},
     "title": ""
    }
   },
   "source": [
    "## Working with Arrays\n",
    "\n",
    "Now that we have proper structured data, let's analyze the customer tags and browsing history."
   ]
  },
  {
   "cell_type": "code",
   "execution_count": 0,
   "metadata": {
    "application/vnd.databricks.v1+cell": {
     "cellMetadata": {},
     "inputWidgets": {},
     "nuid": "bd0c1b2c-d7a9-46e9-a72f-2e5630d6b4d7",
     "showTitle": false,
     "tableResultSettingsMap": {},
     "title": ""
    }
   },
   "outputs": [],
   "source": [
    "# 1. Calculate the number of tags and browsing history items for each customer\n",
    "# 2. Explode the tags array to see all unique customer tags\n",
    "# 3. Find the most common browsing categories across all customers\n",
    "# HINT: use the `array_size` function or its alias `size`"
   ]
  },
  {
   "cell_type": "code",
   "execution_count": 0,
   "metadata": {
    "application/vnd.databricks.v1+cell": {
     "cellMetadata": {},
     "inputWidgets": {},
     "nuid": "b7446353-5bc7-4a5d-a18b-22f3623cf6d1",
     "showTitle": false,
     "tableResultSettingsMap": {},
     "title": ""
    }
   },
   "outputs": [],
   "source": [
    "## Calculate the number of tags and browsing history items for each customer\n",
    "array_sizes_df = parsed_df.select(\n",
    "    \"customer_id\",\n",
    "    \"name\",\n",
    "    size(\"tags\").alias(\"num_tags\"),\n",
    "    size(\"browsing_history\").alias(\"num_browsing_categories\")\n",
    ")\n",
    "\n",
    "display(array_sizes_df)"
   ]
  },
  {
   "cell_type": "code",
   "execution_count": 0,
   "metadata": {
    "application/vnd.databricks.v1+cell": {
     "cellMetadata": {},
     "inputWidgets": {},
     "nuid": "ff58f784-9ddd-487b-962c-7f26e5405727",
     "showTitle": false,
     "tableResultSettingsMap": {},
     "title": ""
    }
   },
   "outputs": [],
   "source": [
    "## Explode tags to see all customer categorizations\n",
    "exploded_tags_df = parsed_df.select(\n",
    "    \"customer_id\",\n",
    "    \"name\",\n",
    "    explode(\"tags\").alias(\"tag\")\n",
    ")\n",
    "\n",
    "display(exploded_tags_df)"
   ]
  },
  {
   "cell_type": "code",
   "execution_count": 0,
   "metadata": {
    "application/vnd.databricks.v1+cell": {
     "cellMetadata": {},
     "inputWidgets": {},
     "nuid": "85243dca-ccee-4fc1-a964-112c7456948d",
     "showTitle": false,
     "tableResultSettingsMap": {},
     "title": ""
    }
   },
   "outputs": [],
   "source": [
    "## Find the most common customer tags\n",
    "## Count frequency of each tag\n",
    "tag_counts_df = exploded_tags_df.groupBy(\"tag\").count().orderBy(desc(\"count\"))\n",
    "display(tag_counts_df)"
   ]
  },
  {
   "cell_type": "code",
   "execution_count": 0,
   "metadata": {
    "application/vnd.databricks.v1+cell": {
     "cellMetadata": {},
     "inputWidgets": {},
     "nuid": "b53b3ccd-82c5-41ba-93a6-7e810afbcdaa",
     "showTitle": false,
     "tableResultSettingsMap": {},
     "title": ""
    }
   },
   "outputs": [],
   "source": [
    "# 1. Explode the recent_orders array to analyze individual orders\n",
    "# 2. Calculate total revenue per customer"
   ]
  },
  {
   "cell_type": "code",
   "execution_count": 0,
   "metadata": {
    "application/vnd.databricks.v1+cell": {
     "cellMetadata": {},
     "inputWidgets": {},
     "nuid": "4f11e2af-e3d4-4494-a72c-f0c26862894f",
     "showTitle": false,
     "tableResultSettingsMap": {},
     "title": ""
    }
   },
   "outputs": [],
   "source": [
    "## Explode recent_orders to analyze individual orders\n",
    "orders_df = parsed_df.select(\n",
    "    \"customer_id\",\n",
    "    \"name\",\n",
    "    explode(\"recent_orders\").alias(\"order\")\n",
    ")\n",
    "\n",
    "## Calculate total revenue per customer\n",
    "customer_revenue_df = orders_df.groupBy(\n",
    "    \"customer_id\",\n",
    "    \"name\"\n",
    ").agg(\n",
    "    sum(\"order.total\").alias(\"total_revenue\"),\n",
    "    count(\"order.order_id\").alias(\"order_count\")\n",
    ").orderBy(desc(\"total_revenue\"))\n",
    "\n",
    "display(customer_revenue_df)"
   ]
  },
  {
   "cell_type": "markdown",
   "metadata": {
    "application/vnd.databricks.v1+cell": {
     "cellMetadata": {},
     "inputWidgets": {},
     "nuid": "bed0698c-3a0a-48de-a611-a602d5b584f0",
     "showTitle": false,
     "tableResultSettingsMap": {},
     "title": ""
    }
   },
   "source": [
    "## Bonus Challenge: Analyze Customer Purchasing Patterns\n",
    "\n",
    "Let's use the `collect_list` and `collect_set` aggregate functions to create summaries of customer purchasing patterns."
   ]
  },
  {
   "cell_type": "code",
   "execution_count": 0,
   "metadata": {
    "application/vnd.databricks.v1+cell": {
     "cellMetadata": {},
     "inputWidgets": {},
     "nuid": "91612e81-a6a3-4122-99ca-d29887e7ebaa",
     "showTitle": false,
     "tableResultSettingsMap": {},
     "title": ""
    }
   },
   "outputs": [],
   "source": [
    "## First, create a flattened view of orders\n",
    "order_items_df = orders_df.select(\n",
    "    \"customer_id\",\n",
    "    \"name\",\n",
    "    \"order.order_id\",\n",
    "    \"order.date\",\n",
    "    explode(\"order.items\").alias(\"item\")\n",
    ")\n",
    "\n",
    "## Now extract the name field from each item\n",
    "item_details_df = order_items_df.selectExpr(\n",
    "    \"customer_id\",\n",
    "    \"name\",\n",
    "    \"item.name as product_name\"\n",
    ")\n",
    "\n",
    "# Inspect the data\n",
    "display(item_details_df)"
   ]
  },
  {
   "cell_type": "code",
   "execution_count": 0,
   "metadata": {
    "application/vnd.databricks.v1+cell": {
     "cellMetadata": {},
     "inputWidgets": {},
     "nuid": "711da12e-ff58-40f2-8f4f-68279eacf82b",
     "showTitle": false,
     "tableResultSettingsMap": {},
     "title": ""
    }
   },
   "outputs": [],
   "source": [
    "## Collect all products purchased by each customer, creating new columns called \"all_products_purchased\" and \"unique_products_purchased\" for each \"customer_id\"\n",
    "customer_products_df = item_details_df.groupBy(\n",
    "    \"customer_id\"\n",
    ").agg(\n",
    "    collect_list(\"product_name\").alias(\"all_products_purchased\"),\n",
    "    collect_set(\"product_name\").alias(\"unique_products_purchased\")\n",
    ")\n",
    "\n",
    "display(customer_products_df)"
   ]
  }
 ],
 "metadata": {
  "application/vnd.databricks.v1+notebook": {
   "computePreferences": null,
   "dashboards": [],
   "environmentMetadata": null,
   "inputWidgetPreferences": null,
   "language": "python",
   "notebookMetadata": {
    "pythonIndentUnit": 4
   },
   "notebookName": "Developing Applications with Apache Spark - Lab Solution",
   "widgets": {}
  },
  "language_info": {
   "name": "python"
  }
 },
 "nbformat": 4,
 "nbformat_minor": 0
}
