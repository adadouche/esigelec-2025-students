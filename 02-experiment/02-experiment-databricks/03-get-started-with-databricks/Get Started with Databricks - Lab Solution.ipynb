{
 "cells": [
  {
   "cell_type": "markdown",
   "metadata": {
    "application/vnd.databricks.v1+cell": {
     "cellMetadata": {},
     "inputWidgets": {},
     "nuid": "fee180db-6d25-4cd1-aabd-0373e012e4db",
     "showTitle": false,
     "tableResultSettingsMap": {},
     "title": ""
    }
   },
   "source": [
    "# Data Warehousing Comprehensive Lab\n",
    "\n",
    "This lab will guide you through creating a complete pipeline in Databricks, leveraging Delta Lake, data ingestion techniques, transformations, dashboards, and Databricks Genie. The goal is to give you hands-on experience with the Databricks platform.\n",
    "\n",
    "**Learning Objectives**\n",
    "\n",
    "By the end of this lab, you will:\n",
    "- Create Delta tables and explore Delta Lake features like Time Travel and Version History.\n",
    "- Perform data ingestion using techniques - Upload UI.\n",
    "- Clean and transform datasets into Bronze, Silver, and Gold layers.\n",
    "- Visualize insights using Databricks Dashboards.\n",
    "- Leverage Databricks Genie for data exploration and analysis.\n"
   ]
  },
  {
   "cell_type": "markdown",
   "metadata": {
    "application/vnd.databricks.v1+cell": {
     "cellMetadata": {},
     "inputWidgets": {},
     "nuid": "13e4de14-9f3d-495d-90dd-c7c92de290a4",
     "showTitle": false,
     "tableResultSettingsMap": {},
     "title": ""
    }
   },
   "source": [
    "## Task 1 - Creating Delta Tables and Exploring Delta Lake Features\n",
    "In this task, you will learn how to create Delta tables and explore the advanced features of Delta Lake.\n"
   ]
  },
  {
   "cell_type": "markdown",
   "metadata": {
    "application/vnd.databricks.v1+cell": {
     "cellMetadata": {},
     "inputWidgets": {},
     "nuid": "de349f9c-de46-4bb5-8729-3017b0dcf77e",
     "showTitle": false,
     "tableResultSettingsMap": {},
     "title": ""
    }
   },
   "source": [
    "### 1.1 Create the `sales_table` Delta Table\n",
    "Follow these steps to create a Delta table from a CSV file and explore its features:\n",
    "1. Create the Delta table by reading data from the CSV file.\n",
    "2. Verify the table creation by selecting a sample of the data."
   ]
  },
  {
   "cell_type": "code",
   "execution_count": 0,
   "metadata": {
    "application/vnd.databricks.v1+cell": {
     "cellMetadata": {},
     "inputWidgets": {},
     "nuid": "04da6bce-3f43-4e0f-beb2-9feebfdb10fe",
     "showTitle": false,
     "tableResultSettingsMap": {},
     "title": ""
    }
   },
   "outputs": [],
   "source": [
    "---- Drop the table if it already exists for demonstration purposes\n",
    "DROP TABLE IF EXISTS sales_table;\n",
    "\n",
    "---- Create a Delta table using the CSV file\n",
    "CREATE TABLE sales_table USING DELTA\n",
    "AS\n",
    "SELECT *\n",
    "FROM read_files(\n",
    "  '${DA.paths.datasets.retail}/source_files/sales.csv',\n",
    "  format => 'csv',\n",
    "  header => true,\n",
    "  inferSchema => true\n",
    ");\n",
    "\n",
    "---- Select from the newly created table\n",
    "SELECT * FROM sales_table;"
   ]
  },
  {
   "cell_type": "markdown",
   "metadata": {
    "application/vnd.databricks.v1+cell": {
     "cellMetadata": {},
     "inputWidgets": {},
     "nuid": "0380734a-4af1-459a-8f7d-a41a438b3e85",
     "showTitle": false,
     "tableResultSettingsMap": {},
     "title": ""
    }
   },
   "source": [
    "### 1.2 Enable Column Mapping and Modify the Table\n",
    "In this step, you will enhance the functionality and structure of the sales_table Delta table by enabling column mapping and modifying the schema. Column mapping is essential for managing schema evolution and ensuring data consistency in Delta Lake. Follow these steps:"
   ]
  },
  {
   "cell_type": "markdown",
   "metadata": {
    "application/vnd.databricks.v1+cell": {
     "cellMetadata": {},
     "inputWidgets": {},
     "nuid": "d42abaee-f8e6-476f-8c71-39e28e80a815",
     "showTitle": false,
     "tableResultSettingsMap": {},
     "title": ""
    }
   },
   "source": [
    "- **Step 1: Enable Column Mapping:**\n",
    "\n",
    "  Set the table properties to enable column mapping. This feature allows you to rename columns, manage schema changes, and maintain backward compatibility for readers.\n",
    "\n",
    "- **Step 2: Drop Unnecessary Columns:**\n",
    "\n",
    "  Remove the `_rescued_data` column, which is often added to capture extra data during schema inference but may not be required for further analysis."
   ]
  },
  {
   "cell_type": "code",
   "execution_count": 0,
   "metadata": {
    "application/vnd.databricks.v1+cell": {
     "cellMetadata": {},
     "inputWidgets": {},
     "nuid": "1c0495c9-ad5b-4836-a76f-4393a3696df1",
     "showTitle": false,
     "tableResultSettingsMap": {},
     "title": ""
    }
   },
   "outputs": [],
   "source": [
    "---- Enable column mapping on the Delta table\n",
    "ALTER TABLE sales_table SET TBLPROPERTIES (\n",
    "   'delta.minReaderVersion' = '2',\n",
    "   'delta.minWriterVersion' = '5',\n",
    "   'delta.columnMapping.mode' = 'name'\n",
    ");\n",
    "\n",
    "---- Drop the column after enabling column mapping\n",
    "ALTER TABLE sales_table DROP COLUMNS (_rescued_data);"
   ]
  },
  {
   "cell_type": "markdown",
   "metadata": {
    "application/vnd.databricks.v1+cell": {
     "cellMetadata": {},
     "inputWidgets": {},
     "nuid": "72d4e7d9-870e-4456-b91b-624ef1f0c391",
     "showTitle": false,
     "tableResultSettingsMap": {},
     "title": ""
    }
   },
   "source": [
    "- **Step 3: Add and Update a New Column:**\n",
    "\n",
    "  Add a new column named `discount_code` to the table schema and populate it with values based on conditions. In this step:\n",
    "\n",
    "    - Assign `Discount_20%` to rows where the `product_category` is `'Ramsung'`.\n",
    "    - Assign `N/A` to all other rows."
   ]
  },
  {
   "cell_type": "code",
   "execution_count": 0,
   "metadata": {
    "application/vnd.databricks.v1+cell": {
     "cellMetadata": {},
     "inputWidgets": {},
     "nuid": "4aed1212-dde5-4f64-a45c-84f097f0102d",
     "showTitle": false,
     "tableResultSettingsMap": {},
     "title": ""
    }
   },
   "outputs": [],
   "source": [
    "---- Alter the table by adding a new column\n",
    "ALTER TABLE sales_table ADD COLUMNS (discount_code STRING);\n",
    "\n",
    "---- Update the newly added column with data\n",
    "UPDATE sales_table\n",
    "SET discount_code = CASE\n",
    "  WHEN product_category = 'Ramsung' THEN 'Discount_20%'\n",
    "  ELSE 'N/A'\n",
    "END;"
   ]
  },
  {
   "cell_type": "markdown",
   "metadata": {
    "application/vnd.databricks.v1+cell": {
     "cellMetadata": {},
     "inputWidgets": {},
     "nuid": "7312be0f-c6bc-48d5-bfbc-b5c498726571",
     "showTitle": false,
     "tableResultSettingsMap": {},
     "title": ""
    }
   },
   "source": [
    "- **Step 4: View Table History:**\n",
    "  \n",
    "  Use the `DESCRIBE HISTORY` command to view the version history of the table."
   ]
  },
  {
   "cell_type": "code",
   "execution_count": 0,
   "metadata": {
    "application/vnd.databricks.v1+cell": {
     "cellMetadata": {},
     "inputWidgets": {},
     "nuid": "294ca0dc-1ef2-4c83-9479-0c19a6b21809",
     "showTitle": false,
     "tableResultSettingsMap": {},
     "title": ""
    }
   },
   "outputs": [],
   "source": [
    "---- Display the history of changes made to the sales_table\n",
    "DESCRIBE HISTORY sales_table;"
   ]
  },
  {
   "cell_type": "markdown",
   "metadata": {
    "application/vnd.databricks.v1+cell": {
     "cellMetadata": {},
     "inputWidgets": {},
     "nuid": "f0473dea-2c6d-4fa7-9705-2214fea40970",
     "showTitle": false,
     "tableResultSettingsMap": {},
     "title": ""
    }
   },
   "source": [
    "### 1.3 Restore the Table Using Time Travel\n",
    "\n",
    "Delta Lake's time travel feature allows you to access and restore previous versions of a Delta table. This is useful for scenarios such as data recovery, debugging, or auditing changes.\n",
    "\n",
    "In this sub task, you will restore the `sales_table` Delta table to a specific version using the `RESTORE TABLE` command."
   ]
  },
  {
   "cell_type": "code",
   "execution_count": 0,
   "metadata": {
    "application/vnd.databricks.v1+cell": {
     "cellMetadata": {},
     "inputWidgets": {},
     "nuid": "53b1d51f-453a-42e9-8d40-37951d8e67ef",
     "showTitle": false,
     "tableResultSettingsMap": {},
     "title": ""
    }
   },
   "outputs": [],
   "source": [
    "---- Restore the sales_table to previous version\n",
    "RESTORE TABLE sales_table TO VERSION AS OF 3;"
   ]
  },
  {
   "cell_type": "markdown",
   "metadata": {
    "application/vnd.databricks.v1+cell": {
     "cellMetadata": {},
     "inputWidgets": {},
     "nuid": "7b700870-36e1-4f36-93a1-61c08523167a",
     "showTitle": false,
     "tableResultSettingsMap": {},
     "title": ""
    }
   },
   "source": [
    "## Task 2 -  Data Ingestion Techniques\n",
    "In this task, you will learn how to ingest data into Databricks using the UI. This includes downloading a dataset, uploading it to your schema, and creating a Delta table."
   ]
  },
  {
   "cell_type": "markdown",
   "metadata": {
    "application/vnd.databricks.v1+cell": {
     "cellMetadata": {},
     "inputWidgets": {},
     "nuid": "7792f019-2c53-443b-ba01-ca42a3dbb861",
     "showTitle": false,
     "tableResultSettingsMap": {},
     "title": ""
    }
   },
   "source": [
    "### 2.1 - Uploading Data and Creating a Delta Table using UI\n",
    "\n",
    "1. Download the `customers.csv` data file by following [this link](/ajax-api/2.0/fs/files/Volumes/dbacademy_retail/v01/source_files/customers.csv). This will download the CSV file to your browser's download folder.\n",
    "1. Using the the [Catalog Explorer](/explore/data/dbacademy) user interface, create a table named *customers_ui* in your schema, using the file you just downloaded."
   ]
  },
  {
   "cell_type": "markdown",
   "metadata": {
    "application/vnd.databricks.v1+cell": {
     "cellMetadata": {},
     "inputWidgets": {},
     "nuid": "9362f7b8-97cc-4221-b6d3-e8140f7f54b6",
     "showTitle": false,
     "tableResultSettingsMap": {},
     "title": ""
    }
   },
   "source": [
    "- **Step 1: Verify the Table Creation**\n",
    "\n",
    "  After successfully creating the Delta table, you can verify its creation and view a sample of the data by following these steps:"
   ]
  },
  {
   "cell_type": "markdown",
   "metadata": {
    "application/vnd.databricks.v1+cell": {
     "cellMetadata": {},
     "inputWidgets": {},
     "nuid": "5d799104-d658-4aec-af3e-97d71035c626",
     "showTitle": false,
     "tableResultSettingsMap": {},
     "title": ""
    }
   },
   "source": [
    "Use the `SHOW TABLES` command to display all tables in the current schema and confirm that `customers_ui` exists."
   ]
  },
  {
   "cell_type": "code",
   "execution_count": 0,
   "metadata": {
    "application/vnd.databricks.v1+cell": {
     "cellMetadata": {},
     "inputWidgets": {},
     "nuid": "3fe9232f-8d0a-4465-a177-a12e8ea5d143",
     "showTitle": false,
     "tableResultSettingsMap": {},
     "title": ""
    }
   },
   "outputs": [],
   "source": [
    "---- Show all tables in the current Schema\n",
    "SHOW TABLES;"
   ]
  },
  {
   "cell_type": "markdown",
   "metadata": {
    "application/vnd.databricks.v1+cell": {
     "cellMetadata": {},
     "inputWidgets": {},
     "nuid": "888ea93f-40d4-4b7b-baf6-f391ac7b8a02",
     "showTitle": false,
     "tableResultSettingsMap": {},
     "title": ""
    }
   },
   "source": [
    "Use the `SELECT` statement to retrieve and display the first 10 records from the `customers_ui` table to ensure the data has been ingested correctly.\n"
   ]
  },
  {
   "cell_type": "code",
   "execution_count": 0,
   "metadata": {
    "application/vnd.databricks.v1+cell": {
     "cellMetadata": {},
     "inputWidgets": {},
     "nuid": "259259bb-bc00-4828-a998-e8254269d916",
     "showTitle": false,
     "tableResultSettingsMap": {},
     "title": ""
    }
   },
   "outputs": [],
   "source": [
    "---- Display the first 10 records from the customers_ui table\n",
    "SELECT * FROM customers_ui LIMIT 10;"
   ]
  },
  {
   "cell_type": "markdown",
   "metadata": {
    "application/vnd.databricks.v1+cell": {
     "cellMetadata": {},
     "inputWidgets": {},
     "nuid": "ab7e7f8d-c6a2-4bde-9891-353c91de065b",
     "showTitle": false,
     "tableResultSettingsMap": {},
     "title": ""
    }
   },
   "source": [
    "### 2.2 Create Table as Select (CTAS)\n",
    "\n",
    "In this step, we create the `customers_ui_bronze` Delta table by selecting data from `customers_ui` and applying transformations."
   ]
  },
  {
   "cell_type": "code",
   "execution_count": 0,
   "metadata": {
    "application/vnd.databricks.v1+cell": {
     "cellMetadata": {},
     "inputWidgets": {},
     "nuid": "08705022-5c9d-4cc7-9431-c73cd20fccf6",
     "showTitle": false,
     "tableResultSettingsMap": {},
     "title": ""
    }
   },
   "outputs": [],
   "source": [
    "---- Drop the customers_ui_bronze table if it already exists\n",
    "DROP TABLE IF EXISTS customers_ui_bronze;\n",
    "---- Create a new Delta table\n",
    "CREATE TABLE customers_ui_bronze USING DELTA AS\n",
    "SELECT *, \n",
    "  CAST(CAST(valid_from / 1e6 AS TIMESTAMP) AS DATE) AS first_touch_date, \n",
    "  CURRENT_TIMESTAMP() AS updated,\n",
    "  _metadata.file_name AS source_file\n",
    "FROM customers_ui;\n",
    "\n",
    "---- Verify the data in the newly created table\n",
    "SELECT * FROM customers_ui_bronze LIMIT 10;"
   ]
  },
  {
   "cell_type": "markdown",
   "metadata": {
    "application/vnd.databricks.v1+cell": {
     "cellMetadata": {},
     "inputWidgets": {},
     "nuid": "d78e05bc-ae12-4d90-b5a0-aaeb87b47d1d",
     "showTitle": false,
     "tableResultSettingsMap": {},
     "title": ""
    }
   },
   "source": [
    "## Task 3 - Data Transformation\n",
    "In this task, you will transform the data in your Delta tables to create the Silver and Gold tables. These transformations will clean, enrich, and join the data to provide valuable insights for analytics and reporting."
   ]
  },
  {
   "cell_type": "markdown",
   "metadata": {
    "application/vnd.databricks.v1+cell": {
     "cellMetadata": {},
     "inputWidgets": {},
     "nuid": "2328c30e-26d9-4637-a819-3deb26b60f99",
     "showTitle": false,
     "tableResultSettingsMap": {},
     "title": ""
    }
   },
   "source": [
    "###3.1 Create the Silver Table\n",
    "\n",
    "The Silver table represents a refined layer with cleaned and enriched data derived from the Bronze table. \n",
    "\n",
    "Follow these steps:\n",
    "- Transform the `customers_ui_bronze` table to clean and enrich the data.\n",
    "- Create a new column, `loyalty_level`, that categorizes customers based on their loyalty segment.\n",
    "- Save the results as the `customers_ui_silver` table."
   ]
  },
  {
   "cell_type": "code",
   "execution_count": 0,
   "metadata": {
    "application/vnd.databricks.v1+cell": {
     "cellMetadata": {},
     "inputWidgets": {},
     "nuid": "a08c09de-c91f-4d84-9cc3-0c7d7014ba4b",
     "showTitle": false,
     "tableResultSettingsMap": {},
     "title": ""
    }
   },
   "outputs": [],
   "source": [
    "---- Create or replace the Silver table\n",
    "CREATE OR REPLACE TABLE customers_ui_silver AS\n",
    "SELECT \n",
    "  customer_id,\n",
    "  customer_name,\n",
    "  state,\n",
    "  city,\n",
    "  units_purchased,\n",
    "  loyalty_segment, ---- Selecting relevant columns from the Bronze table.\n",
    "  CASE \n",
    "    WHEN loyalty_segment = 1 THEN 'High'\n",
    "    WHEN loyalty_segment = 2 THEN 'Medium'\n",
    "    ELSE 'Low'\n",
    "  END AS loyalty_level  ---- Adding a new column, loyalty_level, based on the loyalty_segment values.\n",
    "FROM customers_ui_bronze;\n",
    "\n",
    "---- Verify the Silver table\n",
    "SELECT * FROM customers_ui_silver LIMIT 10;"
   ]
  },
  {
   "cell_type": "markdown",
   "metadata": {
    "application/vnd.databricks.v1+cell": {
     "cellMetadata": {},
     "inputWidgets": {},
     "nuid": "3734667e-4f5e-458b-946d-e6b611e84a33",
     "showTitle": false,
     "tableResultSettingsMap": {},
     "title": ""
    }
   },
   "source": [
    "###3.2 Create the Gold Table\n",
    "\n",
    "The Gold table represents a business insights layer, created by joining the Silver table with the `sales_table`.\n",
    "\n",
    "Follow these steps:\n",
    "\n",
    "- Join the `customers_ui_silver` table with the `sales_table` on the `customer_id` column.\n",
    "- Select key metrics and dimensions required for analytics and save the result as the `customers_ui_gold` table."
   ]
  },
  {
   "cell_type": "code",
   "execution_count": 0,
   "metadata": {
    "application/vnd.databricks.v1+cell": {
     "cellMetadata": {},
     "inputWidgets": {},
     "nuid": "4c211bd1-0fdd-4291-a6b5-b1b0f71764f4",
     "showTitle": false,
     "tableResultSettingsMap": {},
     "title": ""
    }
   },
   "outputs": [],
   "source": [
    "---- Create or replace the Gold table\n",
    "CREATE OR REPLACE TABLE customers_ui_gold AS\n",
    "SELECT \n",
    "  c.customer_id,\n",
    "  c.customer_name,\n",
    "  c.loyalty_level,\n",
    "  s.product_category,\n",
    "  s.product_name,\n",
    "  s.total_price,\n",
    "  s.order_date\n",
    "FROM customers_ui_silver c\n",
    "JOIN sales_table s ---- Joining the customers_ui_silver table with the sales_table on the customer_id column.\n",
    "ON c.customer_id = s.customer_id; ---- Selecting key attributes from both tables to create a comprehensive insights layer.\n",
    "\n",
    "-- Verify the Gold table\n",
    "SELECT * FROM customers_ui_gold LIMIT 10;"
   ]
  },
  {
   "cell_type": "markdown",
   "metadata": {
    "application/vnd.databricks.v1+cell": {
     "cellMetadata": {},
     "inputWidgets": {},
     "nuid": "6b0415bb-8e29-414a-ac0c-186918b8b8df",
     "showTitle": false,
     "tableResultSettingsMap": {},
     "title": ""
    }
   },
   "source": [
    "## Task 4 - Visualization with Dashboards\n",
    "In this task, you will create a dashboard in Databricks to visualize insights derived from the Gold table. The task involves adding datasets, creating visualizations, and exploring the dashboard using Databricks Genie."
   ]
  },
  {
   "cell_type": "markdown",
   "metadata": {
    "application/vnd.databricks.v1+cell": {
     "cellMetadata": {},
     "inputWidgets": {},
     "nuid": "a467fb83-a0b2-4e41-a187-d816ddd646ec",
     "showTitle": false,
     "tableResultSettingsMap": {},
     "title": ""
    }
   },
   "source": [
    "###4.1: Create a New Dashboard\n",
    "Follow these steps to create a new dashboard:\n",
    "* Navigate to **Dashboards** in the side navigation panel.\n",
    "* Select **Create dashboard**. \n",
    "* At the top of the resulting screen, click on the Dashboard name and change it to **Customer_Sales Dashboard**."
   ]
  },
  {
   "cell_type": "markdown",
   "metadata": {
    "application/vnd.databricks.v1+cell": {
     "cellMetadata": {},
     "inputWidgets": {},
     "nuid": "c4d45c63-4b22-4875-a7fa-a9ee91167835",
     "showTitle": false,
     "tableResultSettingsMap": {},
     "title": ""
    }
   },
   "source": [
    "### 4.2: Adding Data to the Dashboard\n",
    "\n",
    "To create visualizations, you need to associate datasets with the dashboard. Complete the following steps:\n",
    "\n",
    "1. Navigate to the **Data** tab in the dashboard.\n",
    "2. Use the **+ Select a table** button to add datasets. \n",
    "3. Search for and select the **`customers_ui_gold`** table from {DA.schema_name}.{DA.schema_name}and click **Confirm**. The table will appear in your dataset list.\n",
    "\n",
    "You can modify the SQL query associated with each dataset in the query editing panel to customize the data."
   ]
  },
  {
   "cell_type": "markdown",
   "metadata": {
    "application/vnd.databricks.v1+cell": {
     "cellMetadata": {},
     "inputWidgets": {},
     "nuid": "1383c47e-2a76-400d-b960-18e3390172ee",
     "showTitle": false,
     "tableResultSettingsMap": {},
     "title": ""
    }
   },
   "source": [
    "### 4.3: Visualization - Combo Chart\n",
    "Visualize the insights by creating a Combo Chart that displays total sales value and sales order counts over a three-month span.\n",
    "\n",
    "**Steps to Create the Combo Chart:**\n",
    "\n",
    "1. In the **Data** tab, select the **+ Create from SQL** option.\n",
    "2. Enter and execute the following SQL query (replace `{DA.catalog_name}.{DA.schema_name}` with your actual **catalog name** and **schema name**):\n",
    "\n",
    "    ```sql\n",
    "    SELECT customer_name, \n",
    "           total_price AS Total_Sales, \n",
    "           date_format(order_date, \"MM\") AS Month, \n",
    "           product_category \n",
    "    FROM {DA.catalog_name}.{DA.schema_name}.customers_ui_gold \n",
    "    WHERE order_date >= to_date('2019-08-01')\n",
    "    AND order_date <= to_date('2019-10-31');\n",
    "    ```\n",
    "\n",
    "3. Rename the query to **Three Month Sales** and save it.\n",
    "4. Switch to the **Canvas** tab and click **Add a visualization** at the bottom.\n",
    "5. Select the **Three Month Sales** dataset and choose the **Combo** chart as the visualization type.\n",
    "6. Configure the chart settings:\n",
    "    - **X axis:** Month\n",
    "    - **Bar:** Total_Sales (Rename to **Total Sales Value**)\n",
    "    - **Line:** COUNT(`*`) (Rename to **Count of Sales Orders**)\n",
    "\n",
    "7. Enable **dual axis** from the Y-axis configuration menu.\n",
    "8. Change the left Y-axis format to **Currency ($)**.\n",
    "\n",
    "This visualization will show the correlation between sales volume and total sales value for each month."
   ]
  },
  {
   "cell_type": "markdown",
   "metadata": {
    "application/vnd.databricks.v1+cell": {
     "cellMetadata": {},
     "inputWidgets": {},
     "nuid": "7205008f-0aa0-498e-9b0d-08d3fdbf488b",
     "showTitle": false,
     "tableResultSettingsMap": {},
     "title": ""
    }
   },
   "source": [
    "### 4.4: Creating a Genie Space from a Dashboard\n",
    "\n",
    "Databricks Genie allows you to explore data directly from the dashboard in a conversational interface.\n",
    "\n",
    "**Steps to Create a Genie Space:**\n",
    "\n",
    "1. Open the **Retail Dashboard** you created.\n",
    "2. Switch to the **Draft** view.\n",
    "3. Click the kebab menu (three vertical dots) in the upper-right corner and select **Open Draft Genie space**.\n",
    "4. In the chatbox, ask:\n",
    "\n",
    "    `\n",
    "    What tables are there and how are they connected? Give me a short summary.\n",
    "    `\n",
    "\n",
    "5. Review the response provided by Genie to understand the data relationships and structure.\n",
    "\n",
    "---\n",
    "\n",
    "By completing this task, you have successfully created a visual dashboard to analyze business insights and leveraged Genie for exploratory analysis."
   ]
  },
  {
   "cell_type": "markdown",
   "metadata": {
    "application/vnd.databricks.v1+cell": {
     "cellMetadata": {},
     "inputWidgets": {},
     "nuid": "7dea02e6-1dd7-4014-88e0-cddd9d1ae904",
     "showTitle": false,
     "tableResultSettingsMap": {},
     "title": ""
    }
   },
   "source": [
    "## Conclusion\n",
    "Congratulations on completing the **Data Warehousing Comprehensive Lab**! Throughout this lab, you gained hands-on experience with Databricks to build and analyze a complete data pipeline, leveraging the robust features of Delta Lake, Databricks Dashboards, and Databricks Genie."
   ]
  },
  {
   "cell_type": "markdown",
   "metadata": {
    "application/vnd.databricks.v1+cell": {
     "cellMetadata": {},
     "inputWidgets": {},
     "nuid": "e92990b4-11d3-4d8f-bb6a-b65445eecef1",
     "showTitle": false,
     "tableResultSettingsMap": {},
     "title": ""
    }
   },
   "source": [
    "\n",
    "&copy; 2025 Databricks, Inc. All rights reserved. Apache, Apache Spark, Spark, the Spark Logo, Apache Iceberg, Iceberg, and the Apache Iceberg logo are trademarks of the <a href=\"https://www.apache.org/\" target=\"blank\">Apache Software Foundation</a>.<br/>\n",
    "<br/><a href=\"https://databricks.com/privacy-policy\" target=\"blank\">Privacy Policy</a> | \n",
    "<a href=\"https://databricks.com/terms-of-use\" target=\"blank\">Terms of Use</a> | \n",
    "<a href=\"https://help.databricks.com/\" target=\"blank\">Support</a>"
   ]
  }
 ],
 "metadata": {
  "application/vnd.databricks.v1+notebook": {
   "computePreferences": null,
   "dashboards": [],
   "environmentMetadata": null,
   "inputWidgetPreferences": null,
   "language": "sql",
   "notebookMetadata": {
    "pythonIndentUnit": 4
   },
   "notebookName": "Get Started with Databricks - Lab Solution",
   "widgets": {}
  },
  "language_info": {
   "name": "sql"
  }
 },
 "nbformat": 4,
 "nbformat_minor": 0
}
