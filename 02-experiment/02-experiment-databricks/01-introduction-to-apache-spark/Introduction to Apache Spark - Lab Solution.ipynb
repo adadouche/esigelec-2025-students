{
 "cells": [
  {
   "cell_type": "markdown",
   "metadata": {
    "application/vnd.databricks.v1+cell": {
     "cellMetadata": {},
     "inputWidgets": {},
     "nuid": "6e7ffc2e-22de-4b3a-b2c8-3d85da47df47",
     "showTitle": false,
     "tableResultSettingsMap": {},
     "title": ""
    }
   },
   "source": [
    "# 4 - Lab Solution - Analyzing Transaction Data with DataFrames\n",
    "\n",
    "In this lab, you'll analyze transactions from the Bakehouse dataset using Spark DataFrames. You'll apply the concepts from the lecture to solve real business problems and gain insights from the data.\n",
    "\n",
    "### Objectives\n",
    "- Reading data into a DataFrame and exploring its contents and structure\n",
    "- Filtering records and projecting columns from a DataFrame\n",
    "- Saving a DataFrame to a table"
   ]
  },
  {
   "cell_type": "markdown",
   "metadata": {
    "application/vnd.databricks.v1+cell": {
     "cellMetadata": {},
     "inputWidgets": {},
     "nuid": "dfc37bfe-fa03-4c79-8c41-30b1a3d23b63",
     "showTitle": false,
     "tableResultSettingsMap": {},
     "title": ""
    }
   },
   "source": [
    "## Initial Setup and Data Loading\n",
    "\n",
    "First, let's load our data and examine its structure."
   ]
  },
  {
   "cell_type": "code",
   "execution_count": 0,
   "metadata": {
    "application/vnd.databricks.v1+cell": {
     "cellMetadata": {
      "byteLimit": 2048000,
      "rowLimit": 10000
     },
     "inputWidgets": {},
     "nuid": "3574f284-515b-4db7-a52d-cfea462f5680",
     "showTitle": false,
     "tableResultSettingsMap": {},
     "title": ""
    }
   },
   "outputs": [],
   "source": [
    "# Read the Bakehouse transaction data\n",
    "transactions_df = spark.read.table(\"samples.bakehouse.sales_transactions\")\n",
    "\n",
    "# Examine the schema and display first few rows\n",
    "print(\"DataFrame Schema:\")\n",
    "transactions_df.printSchema()\n",
    "\n",
    "print(\"\\nSample Data:\")\n",
    "display(transactions_df.limit(5))"
   ]
  },
  {
   "cell_type": "markdown",
   "metadata": {
    "application/vnd.databricks.v1+cell": {
     "cellMetadata": {},
     "inputWidgets": {},
     "nuid": "1dd21a09-e9cc-4871-b4d8-968876002569",
     "showTitle": false,
     "tableResultSettingsMap": {},
     "title": ""
    }
   },
   "source": [
    "## Data Exploration\n",
    "\n",
    "Let's explore the basic characteristics of the dataset."
   ]
  },
  {
   "cell_type": "markdown",
   "metadata": {
    "application/vnd.databricks.v1+cell": {
     "cellMetadata": {},
     "inputWidgets": {},
     "nuid": "f16706f1-98ed-4984-a1cc-6eefe9c04610",
     "showTitle": false,
     "tableResultSettingsMap": {},
     "title": ""
    }
   },
   "source": [
    "### Total Transactions Count\n",
    "Get a count of all transactions helps us understand the dataset size."
   ]
  },
  {
   "cell_type": "code",
   "execution_count": 0,
   "metadata": {
    "application/vnd.databricks.v1+cell": {
     "cellMetadata": {
      "byteLimit": 2048000,
      "rowLimit": 10000
     },
     "inputWidgets": {},
     "nuid": "01a701af-7b66-4d84-a6ae-592cc4d349cb",
     "showTitle": false,
     "tableResultSettingsMap": {},
     "title": ""
    }
   },
   "outputs": [],
   "source": [
    "total_transactions = transactions_df.count()\n",
    "print(f\"Total number of transactions: {total_transactions}\")"
   ]
  },
  {
   "cell_type": "markdown",
   "metadata": {
    "application/vnd.databricks.v1+cell": {
     "cellMetadata": {},
     "inputWidgets": {},
     "nuid": "9e2e1c3a-6e70-41ae-b336-ec42850ff192",
     "showTitle": false,
     "tableResultSettingsMap": {},
     "title": ""
    }
   },
   "source": [
    "### Transactions over $100\n",
    "Find the transactions over $100, save these to a new DataFrame named `large_transactions_df`.  Display the contents of this new DataFrame."
   ]
  },
  {
   "cell_type": "code",
   "execution_count": 0,
   "metadata": {
    "application/vnd.databricks.v1+cell": {
     "cellMetadata": {
      "byteLimit": 2048000,
      "rowLimit": 10000
     },
     "inputWidgets": {},
     "nuid": "fb9418d6-6d4a-464a-b54f-423179d1eacf",
     "showTitle": false,
     "tableResultSettingsMap": {},
     "title": ""
    }
   },
   "outputs": [],
   "source": [
    "from pyspark.sql.functions import col\n",
    "\n",
    "large_transactions_df = transactions_df.filter(col(\"totalPrice\") > 100)\n",
    "display(large_transactions_df)"
   ]
  },
  {
   "cell_type": "markdown",
   "metadata": {
    "application/vnd.databricks.v1+cell": {
     "cellMetadata": {},
     "inputWidgets": {},
     "nuid": "6aa3574f-bc94-4f7f-90ba-b1abe0bd5e15",
     "showTitle": false,
     "tableResultSettingsMap": {},
     "title": ""
    }
   },
   "source": [
    "### Save the DataFrame to a table\n",
    "Save the `large_transactions_df` DataFrame to a table called `large_transactions`"
   ]
  },
  {
   "cell_type": "code",
   "execution_count": 0,
   "metadata": {
    "application/vnd.databricks.v1+cell": {
     "cellMetadata": {
      "byteLimit": 2048000,
      "rowLimit": 10000
     },
     "inputWidgets": {},
     "nuid": "79fcc1ed-69ac-4316-a613-e4ebe844631b",
     "showTitle": false,
     "tableResultSettingsMap": {},
     "title": ""
    }
   },
   "outputs": [],
   "source": [
    "# Save the large transactions DataFrame to a table\n",
    "large_transactions_df.write.saveAsTable(\"large_transactions\", mode=\"overwrite\")"
   ]
  },
  {
   "cell_type": "markdown",
   "metadata": {
    "application/vnd.databricks.v1+cell": {
     "cellMetadata": {},
     "inputWidgets": {},
     "nuid": "3118e42f-2008-449c-9c69-c90cdcc882eb",
     "showTitle": false,
     "tableResultSettingsMap": {},
     "title": ""
    }
   },
   "source": [
    "### Use Spark SQL to count the number of large transactions\n",
    "Count the total number of large transactions in our `large_transactions` table"
   ]
  },
  {
   "cell_type": "code",
   "execution_count": 0,
   "metadata": {
    "application/vnd.databricks.v1+cell": {
     "cellMetadata": {
      "byteLimit": 2048000,
      "rowLimit": 10000
     },
     "inputWidgets": {},
     "nuid": "45d3d818-92bc-4c66-8484-d308eb150594",
     "showTitle": false,
     "tableResultSettingsMap": {},
     "title": ""
    }
   },
   "outputs": [],
   "source": [
    "spark.sql(\"select count(*) as cnt_large_trnsc from large_transactions\").display()"
   ]
  }
 ],
 "metadata": {
  "application/vnd.databricks.v1+notebook": {
   "computePreferences": null,
   "dashboards": [],
   "environmentMetadata": null,
   "inputWidgetPreferences": null,
   "language": "python",
   "notebookMetadata": {
    "pythonIndentUnit": 4
   },
   "notebookName": "Introduction to Apache Spark - Lab Solution",
   "widgets": {}
  },
  "language_info": {
   "name": "python"
  }
 },
 "nbformat": 4,
 "nbformat_minor": 0
}
